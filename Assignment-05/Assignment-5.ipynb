{
 "cells": [
  {
   "cell_type": "code",
   "execution_count": null,
   "metadata": {},
   "outputs": [],
   "source": [
    "import pandas as pd\n",
    "\n",
    "customers_df = pd.read_csv('customers.csv')\n",
    "sales_df = pd.read_csv('sales.csv')\n",
    "\n",
    "print(\"First few rows of Customers Dataset:\")\n",
    "print(customers_df.head())\n",
    "\n",
    "print(\"\\nFirst few rows of Sales Dataset:\")\n",
    "print(sales_df.head())\n",
    "\n",
    "print(\"\\nShape of Customers Dataset (rows, columns):\", customers_df.shape)\n",
    "print(\"Shape of Sales Dataset (rows, columns):\", sales_df.shape)\n",
    "\n",
    "print(\"\\nMissing values in Customers Dataset:\")\n",
    "print(customers_df.isnull().sum())\n",
    "\n",
    "print(\"\\nMissing values in Sales Dataset:\")\n",
    "print(sales_df.isnull().sum())\n"
   ]
  },
  {
   "cell_type": "code",
   "execution_count": null,
   "metadata": {},
   "outputs": [],
   "source": [
    "customers_dict = customers_df.to_dict(orient='records')\n",
    "\n",
    "city_to_filter = \"New York\"\n",
    "filtered_dict = [customer for customer in customers_dict if customer['City'] == city_to_filter]\n",
    "\n",
    "print(f\"Number of customers from {city_to_filter} using dictionary: {len(filtered_dict)}\")\n",
    "\n",
    "filtered_df = customers_df[customers_df['City'] == city_to_filter]\n",
    "\n",
    "print(f\"\\nNumber of customers from {city_to_filter} using DataFrame: {filtered_df.shape[0]}\")\n",
    "print(\"\\nFiltered Data (Using DataFrame):\")\n",
    "print(filtered_df)\n"
   ]
  },
  {
   "cell_type": "code",
   "execution_count": null,
   "metadata": {},
   "outputs": [],
   "source": [
    "import time\n",
    "\n",
    "city_to_filter = \"New York\"\n",
    "\n",
    "start_dict = time.time()\n",
    "filtered_dict = [customer for customer in customers_dict if customer['City'] == city_to_filter]\n",
    "end_dict = time.time()\n",
    "\n",
    "time_dict = end_dict - start_dict\n",
    "print(f\"Time taken for filtering using dictionary: {time_dict:.6f} seconds\")\n",
    "\n",
    "start_df = time.time()\n",
    "filtered_df = customers_df[customers_df['City'] == city_to_filter]\n",
    "end_df = time.time()\n",
    "\n",
    "time_df = end_df - start_df\n",
    "print(f\"Time taken for filtering using DataFrame: {time_df:.6f} seconds\")\n",
    "\n",
    "if time_dict < time_df:\n",
    "    print(\"\\nDictionary filtering is faster.\")\n",
    "else:\n",
    "    print(\"\\nDataFrame filtering is faster.\")\n"
   ]
  },
  {
   "cell_type": "code",
   "execution_count": null,
   "metadata": {},
   "outputs": [],
   "source": [
    "print(\"Number of duplicate rows in Customers Dataset:\", customers_df.duplicated().sum())\n",
    "\n",
    "customers_df_cleaned = customers_df.drop_duplicates()\n",
    "print(\"\\nNumber of duplicate rows in Customers Dataset after cleaning:\", customers_df_cleaned.duplicated().sum())\n",
    "\n",
    "print(\"\\nNumber of duplicate rows in Sales Dataset:\", sales_df.duplicated().sum())\n",
    "\n",
    "sales_df_cleaned = sales_df.drop_duplicates()\n",
    "print(\"\\nNumber of duplicate rows in Sales Dataset after cleaning:\", sales_df_cleaned.duplicated().sum())\n",
    "\n",
    "print(\"\\nShape of Customers Dataset after cleaning:\", customers_df_cleaned.shape)\n",
    "print(\"Shape of Sales Dataset after cleaning:\", sales_df_cleaned.shape)\n"
   ]
  },
  {
   "cell_type": "code",
   "execution_count": null,
   "metadata": {},
   "outputs": [],
   "source": [
    "sales_df_cleaned['Discounted_Amount'] = sales_df_cleaned['Amount'] * 0.9\n",
    "\n",
    "product_sales = sales_df_cleaned.groupby('Product')['Discounted_Amount'].sum().reset_index()\n",
    "\n",
    "product_sales.columns = ['Product', 'Total_Sales']\n",
    "\n",
    "print(\"\\nSales grouped by Product with total discounted sales:\")\n",
    "print(product_sales)"
   ]
  },
  {
   "cell_type": "code",
   "execution_count": null,
   "metadata": {},
   "outputs": [],
   "source": [
    "filtered_customers = customers_df_cleaned[(customers_df_cleaned['Age'] >= 25) & (customers_df_cleaned['Age'] <= 35)]\n",
    "\n",
    "city_customer_counts = filtered_customers['City'].value_counts().reset_index()\n",
    "\n",
    "city_customer_counts.columns = ['City', 'Customer_Count']\n",
    "\n",
    "print(\"\\nFiltered customers aged between 25 and 35:\")\n",
    "print(filtered_customers)\n",
    "\n",
    "print(\"\\nNumber of customers in each city within the age range of 25 to 35:\")\n",
    "print(city_customer_counts)\n"
   ]
  },
  {
   "cell_type": "code",
   "execution_count": null,
   "metadata": {},
   "outputs": [],
   "source": [
    "merged_df = pd.merge(customers_df_cleaned, sales_df_cleaned, on='CustomerID')\n",
    "\n",
    "city_sales = merged_df.groupby('City')['Amount'].sum().reset_index()\n",
    "city_with_highest_sales = city_sales.loc[city_sales['Amount'].idxmax()]\n",
    "\n",
    "product_sales_count = merged_df.groupby('Product')['SaleID'].count().reset_index()\n",
    "product_sales_count.columns = ['Product', 'Units_Sold']\n",
    "product_with_most_units_sold = product_sales_count.loc[product_sales_count['Units_Sold'].idxmax()]\n",
    "\n",
    "print(\"City with the highest total sales:\")\n",
    "print(city_with_highest_sales)\n",
    "\n",
    "print(\"\\nProduct with the most units sold:\")\n",
    "print(product_with_most_units_sold)"
   ]
  },
  {
   "cell_type": "code",
   "execution_count": null,
   "metadata": {},
   "outputs": [],
   "source": [
    "unique_cities = merged_df['City'].unique()\n",
    "unique_products = merged_df['Product'].unique()\n",
    "\n",
    "mean_amount = merged_df['Amount'].mean()\n",
    "median_amount = merged_df['Amount'].median()\n",
    "\n",
    "print(\"Unique values in the City column:\")\n",
    "print(unique_cities)\n",
    "\n",
    "print(\"\\nUnique values in the Product column:\")\n",
    "print(unique_products)\n",
    "\n",
    "print(\"\\nMean of the Amount column:\", mean_amount)\n",
    "print(\"Median of the Amount column:\", median_amount)\n"
   ]
  }
 ],
 "metadata": {
  "kernelspec": {
   "display_name": "Python 3",
   "language": "python",
   "name": "python3"
  },
  "language_info": {
   "codemirror_mode": {
    "name": "ipython",
    "version": 3
   },
   "file_extension": ".py",
   "mimetype": "text/x-python",
   "name": "python",
   "nbconvert_exporter": "python",
   "pygments_lexer": "ipython3",
   "version": "3.12.6"
  }
 },
 "nbformat": 4,
 "nbformat_minor": 2
}
